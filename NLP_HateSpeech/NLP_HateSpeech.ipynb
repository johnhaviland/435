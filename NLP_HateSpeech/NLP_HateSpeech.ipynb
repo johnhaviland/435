{
 "cells": [
  {
   "cell_type": "markdown",
   "metadata": {},
   "source": [
    "<h1> Natural Langauge Processing Application </h1>\n",
    "<h2> by Nathan Dilla & John Haviland </h2>\n",
    "\n",
    "<h3> Problem Statement </h3>\n",
    "The purpose of this natural language processing (NLP) application is to detect offensive/hate speech using tweets from Twitter/X users. Using a vast corpus, we hope to make it so the detection of offensive/hate speech can become easier and Twitter/X can become a safer, more tolerable community for all of its users.\n",
    "\n",
    "<h3> Algorithm of the Solution </h3>\n",
    "\n",
    "For our NLP application, we are using a dataset of 24,783 tweets. The dataset has 3 different classes to distinguish the tweets with:\n",
    "\n",
    "    - Offensive tweets (0)\n",
    "\n",
    "    - Hate Speech tweets (1)\n",
    "    \n",
    "    - Neutral tweets (2)"
   ]
  },
  {
   "cell_type": "markdown",
   "metadata": {},
   "source": [
    "<h3> Step 1: Import Libraries & Load Dataset </h3>\n",
    "\n",
    "The libraries that are needed to fully create the NLP application are imported into the program. Also, the 'labeled_data' dataset is loaded into the application from the CSV file using the 'Pandas' library."
   ]
  },
  {
   "cell_type": "code",
   "execution_count": 2,
   "metadata": {},
   "outputs": [
    {
     "data": {
      "text/html": [
       "<div>\n",
       "<style scoped>\n",
       "    .dataframe tbody tr th:only-of-type {\n",
       "        vertical-align: middle;\n",
       "    }\n",
       "\n",
       "    .dataframe tbody tr th {\n",
       "        vertical-align: top;\n",
       "    }\n",
       "\n",
       "    .dataframe thead th {\n",
       "        text-align: right;\n",
       "    }\n",
       "</style>\n",
       "<table border=\"1\" class=\"dataframe\">\n",
       "  <thead>\n",
       "    <tr style=\"text-align: right;\">\n",
       "      <th></th>\n",
       "      <th>Unnamed: 0</th>\n",
       "      <th>count</th>\n",
       "      <th>hate_speech</th>\n",
       "      <th>offensive_language</th>\n",
       "      <th>neither</th>\n",
       "      <th>class</th>\n",
       "      <th>tweet</th>\n",
       "    </tr>\n",
       "  </thead>\n",
       "  <tbody>\n",
       "    <tr>\n",
       "      <th>0</th>\n",
       "      <td>0</td>\n",
       "      <td>3</td>\n",
       "      <td>0</td>\n",
       "      <td>0</td>\n",
       "      <td>3</td>\n",
       "      <td>2</td>\n",
       "      <td>!!! RT @mayasolovely: As a woman you shouldn't...</td>\n",
       "    </tr>\n",
       "    <tr>\n",
       "      <th>1</th>\n",
       "      <td>1</td>\n",
       "      <td>3</td>\n",
       "      <td>0</td>\n",
       "      <td>3</td>\n",
       "      <td>0</td>\n",
       "      <td>1</td>\n",
       "      <td>!!!!! RT @mleew17: boy dats cold...tyga dwn ba...</td>\n",
       "    </tr>\n",
       "    <tr>\n",
       "      <th>2</th>\n",
       "      <td>2</td>\n",
       "      <td>3</td>\n",
       "      <td>0</td>\n",
       "      <td>3</td>\n",
       "      <td>0</td>\n",
       "      <td>1</td>\n",
       "      <td>!!!!!!! RT @UrKindOfBrand Dawg!!!! RT @80sbaby...</td>\n",
       "    </tr>\n",
       "    <tr>\n",
       "      <th>3</th>\n",
       "      <td>3</td>\n",
       "      <td>3</td>\n",
       "      <td>0</td>\n",
       "      <td>2</td>\n",
       "      <td>1</td>\n",
       "      <td>1</td>\n",
       "      <td>!!!!!!!!! RT @C_G_Anderson: @viva_based she lo...</td>\n",
       "    </tr>\n",
       "    <tr>\n",
       "      <th>4</th>\n",
       "      <td>4</td>\n",
       "      <td>6</td>\n",
       "      <td>0</td>\n",
       "      <td>6</td>\n",
       "      <td>0</td>\n",
       "      <td>1</td>\n",
       "      <td>!!!!!!!!!!!!! RT @ShenikaRoberts: The shit you...</td>\n",
       "    </tr>\n",
       "  </tbody>\n",
       "</table>\n",
       "</div>"
      ],
      "text/plain": [
       "   Unnamed: 0  count  hate_speech  offensive_language  neither  class  \\\n",
       "0           0      3            0                   0        3      2   \n",
       "1           1      3            0                   3        0      1   \n",
       "2           2      3            0                   3        0      1   \n",
       "3           3      3            0                   2        1      1   \n",
       "4           4      6            0                   6        0      1   \n",
       "\n",
       "                                               tweet  \n",
       "0  !!! RT @mayasolovely: As a woman you shouldn't...  \n",
       "1  !!!!! RT @mleew17: boy dats cold...tyga dwn ba...  \n",
       "2  !!!!!!! RT @UrKindOfBrand Dawg!!!! RT @80sbaby...  \n",
       "3  !!!!!!!!! RT @C_G_Anderson: @viva_based she lo...  \n",
       "4  !!!!!!!!!!!!! RT @ShenikaRoberts: The shit you...  "
      ]
     },
     "execution_count": 2,
     "metadata": {},
     "output_type": "execute_result"
    }
   ],
   "source": [
    "import pandas as pd\n",
    "import matplotlib.pyplot as plt\n",
    "import seaborn as sns\n",
    "import nltk\n",
    "from nltk.corpus import stopwords\n",
    "from sklearn.feature_extraction.text import TfidfVectorizer\n",
    "from sklearn.model_selection import train_test_split\n",
    "from sklearn.linear_model import LogisticRegression\n",
    "from sklearn.metrics import accuracy_score, classification_report\n",
    "from sklearn.metrics import confusion_matrix\n",
    "\n",
    "data = pd.read_csv('labeled_data.csv')\n",
    "data.head()"
   ]
  },
  {
   "cell_type": "markdown",
   "metadata": {},
   "source": [
    "<h3> Step 2: Visualize Dataset </h3>\n",
    "\n",
    "The sentiment counts from the dataset are printed. We also create a barplot that shows the sentiment distribution between the classes."
   ]
  },
  {
   "cell_type": "code",
   "execution_count": 4,
   "metadata": {},
   "outputs": [
    {
     "data": {
      "image/png": "[encoded data removed]",
      "text/plain": [
       "<Figure size 1000x600 with 1 Axes>"
      ]
     },
     "metadata": {},
     "output_type": "display_data"
    }
   ],
   "source": [
    "sentiment_counts = data['class'].value_counts()\n",
    "sentiment_counts\n",
    "\n",
    "plt.figure(figsize=(10, 6))\n",
    "sns.barplot(x=sentiment_counts.index, y=sentiment_counts.values, alpha=0.8)\n",
    "plt.title('Sentiment Distribution')\n",
    "plt.ylabel('# of Occurrences', fontsize=12)\n",
    "plt.xlabel('Sentiment (Class)', fontsize=12)\n",
    "plt.show()"
   ]
  },
  {
   "cell_type": "markdown",
   "metadata": {},
   "source": [
    "<h3> Step 3: Data/Text Preprocessing </h3>\n",
    "\n",
    "In this step, we remove any character that is not a letter, digit, underscore, or space and \"replaces\" it with an empty string. After, we download 'stopwords' from the NLTK library, set it to English, and create a function that removes any common English stopwords from the dataset text."
   ]
  },
  {
   "cell_type": "code",
   "execution_count": 5,
   "metadata": {},
   "outputs": [
    {
     "data": {
      "text/html": [
       "<div>\n",
       "<style scoped>\n",
       "    .dataframe tbody tr th:only-of-type {\n",
       "        vertical-align: middle;\n",
       "    }\n",
       "\n",
       "    .dataframe tbody tr th {\n",
       "        vertical-align: top;\n",
       "    }\n",
       "\n",
       "    .dataframe thead th {\n",
       "        text-align: right;\n",
       "    }\n",
       "</style>\n",
       "<table border=\"1\" class=\"dataframe\">\n",
       "  <thead>\n",
       "    <tr style=\"text-align: right;\">\n",
       "      <th></th>\n",
       "      <th>Unnamed: 0</th>\n",
       "      <th>count</th>\n",
       "      <th>hate_speech</th>\n",
       "      <th>offensive_language</th>\n",
       "      <th>neither</th>\n",
       "      <th>class</th>\n",
       "      <th>tweet</th>\n",
       "    </tr>\n",
       "  </thead>\n",
       "  <tbody>\n",
       "    <tr>\n",
       "      <th>0</th>\n",
       "      <td>0</td>\n",
       "      <td>3</td>\n",
       "      <td>0</td>\n",
       "      <td>0</td>\n",
       "      <td>3</td>\n",
       "      <td>2</td>\n",
       "      <td>RT mayasolovely As a woman you shouldnt compl...</td>\n",
       "    </tr>\n",
       "    <tr>\n",
       "      <th>1</th>\n",
       "      <td>1</td>\n",
       "      <td>3</td>\n",
       "      <td>0</td>\n",
       "      <td>3</td>\n",
       "      <td>0</td>\n",
       "      <td>1</td>\n",
       "      <td>RT mleew17 boy dats coldtyga dwn bad for cuff...</td>\n",
       "    </tr>\n",
       "    <tr>\n",
       "      <th>2</th>\n",
       "      <td>2</td>\n",
       "      <td>3</td>\n",
       "      <td>0</td>\n",
       "      <td>3</td>\n",
       "      <td>0</td>\n",
       "      <td>1</td>\n",
       "      <td>RT UrKindOfBrand Dawg RT 80sbaby4life You eve...</td>\n",
       "    </tr>\n",
       "    <tr>\n",
       "      <th>3</th>\n",
       "      <td>3</td>\n",
       "      <td>3</td>\n",
       "      <td>0</td>\n",
       "      <td>2</td>\n",
       "      <td>1</td>\n",
       "      <td>1</td>\n",
       "      <td>RT C_G_Anderson viva_based she look like a tr...</td>\n",
       "    </tr>\n",
       "    <tr>\n",
       "      <th>4</th>\n",
       "      <td>4</td>\n",
       "      <td>6</td>\n",
       "      <td>0</td>\n",
       "      <td>6</td>\n",
       "      <td>0</td>\n",
       "      <td>1</td>\n",
       "      <td>RT ShenikaRoberts The shit you hear about me ...</td>\n",
       "    </tr>\n",
       "  </tbody>\n",
       "</table>\n",
       "</div>"
      ],
      "text/plain": [
       "   Unnamed: 0  count  hate_speech  offensive_language  neither  class  \\\n",
       "0           0      3            0                   0        3      2   \n",
       "1           1      3            0                   3        0      1   \n",
       "2           2      3            0                   3        0      1   \n",
       "3           3      3            0                   2        1      1   \n",
       "4           4      6            0                   6        0      1   \n",
       "\n",
       "                                               tweet  \n",
       "0   RT mayasolovely As a woman you shouldnt compl...  \n",
       "1   RT mleew17 boy dats coldtyga dwn bad for cuff...  \n",
       "2   RT UrKindOfBrand Dawg RT 80sbaby4life You eve...  \n",
       "3   RT C_G_Anderson viva_based she look like a tr...  \n",
       "4   RT ShenikaRoberts The shit you hear about me ...  "
      ]
     },
     "execution_count": 5,
     "metadata": {},
     "output_type": "execute_result"
    }
   ],
   "source": [
    "# remove punctuation, special characters\n",
    "data['tweet'] = data['tweet'].str.replace(r'[^\\w\\s]', '', regex=True)\n",
    "data.head()\n",
    "\n",
    "# download and load list of English stopwords\n",
    "nltk.download('stopwords')\n",
    "stop_words = set(stopwords.words('english'))\n",
    "\n",
    "# function that removes stopwords from the dataset text\n",
    "def remove_stopwords(text):\n",
    "    if isinstance(text, str):\n",
    "        words = text.split()\n",
    "        filtered_words = [word for word in words if word.lower() not in stop_words]\n",
    "        return ' '.join(filtered_words)\n",
    "    else:\n",
    "        return text\n",
    "\n",
    "data['tweet'] = data['tweet'].apply(remove_stopwords)\n",
    "data.head()"
   ]
  },
  {
   "cell_type": "markdown",
   "metadata": {},
   "source": [
    "<h3> Step 4: TF-IDF Vectorization / Train-Test Split </h3>\n",
    "\n",
    "We use the TF-IDF vectorization from the 'SKLearn' library in order to convert the preprocessed text data into numerical feature vectors that are used for analysis. The dataset is then split into training and testing datasets with an 80:20 split, respectively."
   ]
  },
  {
   "cell_type": "code",
   "execution_count": 8,
   "metadata": {},
   "outputs": [],
   "source": [
    "tfidf_vectorizer = TfidfVectorizer()\n",
    "x = tfidf_vectorizer.fit_transform(data['tweet'].fillna(''))\n",
    "tfidf_df = pd.DataFrame(x.toarray(), columns=tfidf_vectorizer.get_feature_names_out())\n",
    "\n",
    "top_words = tfidf_df.iloc[0].sort_values(ascending=False).head(10)\n",
    "top_words\n",
    "\n",
    "training_data, testing_data = train_test_split(data, test_size=0.20, random_state=42)\n",
    "print(f\"Training dataset shape: {training_data.shape}\")\n",
    "print(f\"Testing dataset shape: {testing_data.shape}\")\n",
    "\n",
    "x_train = tfidf_vectorizer.fit_transform(training_data['tweet'].fillna(''))\n",
    "x_test = tfidf_vectorizer.transform(testing_data['tweet'].fillna(''))\n",
    "\n",
    "y_train = training_data['class']\n",
    "y_test = testing_data['class']\n"
   ]
  },
  {
   "cell_type": "markdown",
   "metadata": {},
   "source": [
    "<h3> Step 5: Model Training & Evaluation </h3>\n",
    "\n",
    "To train the model, we take a logistic regression model and train it on the training data that has been transformed by the TF-IDF vectorizer. We then assess the model's performance on the test set by calculating its accuracy and generating a classification report, also using functions from the 'SKLearn' library."
   ]
  },
  {
   "cell_type": "code",
   "execution_count": 13,
   "metadata": {},
   "outputs": [
    {
     "data": {
      "text/html": [
       "<style>#sk-container-id-1 {color: black;}#sk-container-id-1 pre{padding: 0;}#sk-container-id-1 div.sk-toggleable {background-color: white;}#sk-container-id-1 label.sk-toggleable__label {cursor: pointer;display: block;width: 100%;margin-bottom: 0;padding: 0.3em;box-sizing: border-box;text-align: center;}#sk-container-id-1 label.sk-toggleable__label-arrow:before {content: \"▸\";float: left;margin-right: 0.25em;color: #696969;}#sk-container-id-1 label.sk-toggleable__label-arrow:hover:before {color: black;}#sk-container-id-1 div.sk-estimator:hover label.sk-toggleable__label-arrow:before {color: black;}#sk-container-id-1 div.sk-toggleable__content {max-height: 0;max-width: 0;overflow: hidden;text-align: left;background-color: #f0f8ff;}#sk-container-id-1 div.sk-toggleable__content pre {margin: 0.2em;color: black;border-radius: 0.25em;background-color: #f0f8ff;}#sk-container-id-1 input.sk-toggleable__control:checked~div.sk-toggleable__content {max-height: 200px;max-width: 100%;overflow: auto;}#sk-container-id-1 input.sk-toggleable__control:checked~label.sk-toggleable__label-arrow:before {content: \"▾\";}#sk-container-id-1 div.sk-estimator input.sk-toggleable__control:checked~label.sk-toggleable__label {background-color: #d4ebff;}#sk-container-id-1 div.sk-label input.sk-toggleable__control:checked~label.sk-toggleable__label {background-color: #d4ebff;}#sk-container-id-1 input.sk-hidden--visually {border: 0;clip: rect(1px 1px 1px 1px);clip: rect(1px, 1px, 1px, 1px);height: 1px;margin: -1px;overflow: hidden;padding: 0;position: absolute;width: 1px;}#sk-container-id-1 div.sk-estimator {font-family: monospace;background-color: #f0f8ff;border: 1px dotted black;border-radius: 0.25em;box-sizing: border-box;margin-bottom: 0.5em;}#sk-container-id-1 div.sk-estimator:hover {background-color: #d4ebff;}#sk-container-id-1 div.sk-parallel-item::after {content: \"\";width: 100%;border-bottom: 1px solid gray;flex-grow: 1;}#sk-container-id-1 div.sk-label:hover label.sk-toggleable__label {background-color: #d4ebff;}#sk-container-id-1 div.sk-serial::before {content: \"\";position: absolute;border-left: 1px solid gray;box-sizing: border-box;top: 0;bottom: 0;left: 50%;z-index: 0;}#sk-container-id-1 div.sk-serial {display: flex;flex-direction: column;align-items: center;background-color: white;padding-right: 0.2em;padding-left: 0.2em;position: relative;}#sk-container-id-1 div.sk-item {position: relative;z-index: 1;}#sk-container-id-1 div.sk-parallel {display: flex;align-items: stretch;justify-content: center;background-color: white;position: relative;}#sk-container-id-1 div.sk-item::before, #sk-container-id-1 div.sk-parallel-item::before {content: \"\";position: absolute;border-left: 1px solid gray;box-sizing: border-box;top: 0;bottom: 0;left: 50%;z-index: -1;}#sk-container-id-1 div.sk-parallel-item {display: flex;flex-direction: column;z-index: 1;position: relative;background-color: white;}#sk-container-id-1 div.sk-parallel-item:first-child::after {align-self: flex-end;width: 50%;}#sk-container-id-1 div.sk-parallel-item:last-child::after {align-self: flex-start;width: 50%;}#sk-container-id-1 div.sk-parallel-item:only-child::after {width: 0;}#sk-container-id-1 div.sk-dashed-wrapped {border: 1px dashed gray;margin: 0 0.4em 0.5em 0.4em;box-sizing: border-box;padding-bottom: 0.4em;background-color: white;}#sk-container-id-1 div.sk-label label {font-family: monospace;font-weight: bold;display: inline-block;line-height: 1.2em;}#sk-container-id-1 div.sk-label-container {text-align: center;}#sk-container-id-1 div.sk-container {/* jupyter's `normalize.less` sets `[hidden] { display: none; }` but bootstrap.min.css set `[hidden] { display: none !important; }` so we also need the `!important` here to be able to override the default hidden behavior on the sphinx rendered scikit-learn.org. See: https://github.com/scikit-learn/scikit-learn/issues/21755 */display: inline-block !important;position: relative;}#sk-container-id-1 div.sk-text-repr-fallback {display: none;}</style><div id=\"sk-container-id-1\" class=\"sk-top-container\"><div class=\"sk-text-repr-fallback\"><pre>LogisticRegression(max_iter=1000)</pre><b>In a Jupyter environment, please rerun this cell to show the HTML representation or trust the notebook. <br />On GitHub, the HTML representation is unable to render, please try loading this page with nbviewer.org.</b></div><div class=\"sk-container\" hidden><div class=\"sk-item\"><div class=\"sk-estimator sk-toggleable\"><input class=\"sk-toggleable__control sk-hidden--visually\" id=\"sk-estimator-id-1\" type=\"checkbox\" checked><label for=\"sk-estimator-id-1\" class=\"sk-toggleable__label sk-toggleable__label-arrow\">LogisticRegression</label><div class=\"sk-toggleable__content\"><pre>LogisticRegression(max_iter=1000)</pre></div></div></div></div></div>"
      ],
      "text/plain": [
       "LogisticRegression(max_iter=1000)"
      ]
     },
     "execution_count": 13,
     "metadata": {},
     "output_type": "execute_result"
    }
   ],
   "source": [
    "# train model\n",
    "model = LogisticRegression(max_iter=1000)\n",
    "model.fit(x_train, y_train)\n",
    "\n",
    "#  evaluate model\n",
    "y_pred = model.predict(x_test)\n",
    "accuracy = accuracy_score(y_test, y_pred)\n",
    "\n",
    "print(f\"Accuracy: {accuracy * 100:.2f}%\")\n",
    "print(\"\\nClassification Report:\\n\", classification_report(y_test, y_pred))\n"
   ]
  },
  {
   "cell_type": "markdown",
   "metadata": {},
   "source": [
    "<h3> Step 6: Model Predictions </h3>\n",
    "\n",
    "After the model is trained and evaluated, we use the train model to try and predict the sentiments of a list of example statements. Some of these statements contain obvious usage of hate speech or offensive statements, while a few of them do not. After these statements are defined, they are transformed using the TF-IDF vectorizer and then are passed to the model to predict the sentiments.\n",
    "\n",
    "This may not be needed, but...\n",
    "\n",
    "DISCLAIMER: SOME OF THE DEFINED STATEMENTS ARE ONLY TO TEST THE MODEL WITH OBVIOUS EXAMPLES."
   ]
  },
  {
   "cell_type": "code",
   "execution_count": null,
   "metadata": {},
   "outputs": [],
   "source": [
    "# define statements\n",
    "statements = [\n",
    "    \"I hate black people.\",\n",
    "    \"Jewish people are ruining the economy.\",\n",
    "    \"suck my balls\",\n",
    "    \"I love you\",\n",
    "    \"I am having a great day.\"\n",
    "]\n",
    "\n",
    "# Transform the statements using the TF-IDF vectorizer:\n",
    "x_statements = tfidf_vectorizer.transform(statements)\n",
    "\n",
    "#  Predict the sentiment:\n",
    "predicted_sentiments = model.predict(x_statements)\n",
    "\n",
    "for statement, sentiment in zip(statements, predicted_sentiments):\n",
    "    print(f\"Statement: {statement}\")\n",
    "    print(f\"Predicted Sentiment: {sentiment}\\n\")\n"
   ]
  },
  {
   "cell_type": "markdown",
   "metadata": {},
   "source": [
    "<h3> Step 7: Confusion Matrix Visualization </h3>\n",
    "\n",
    "In order to evaluate our model, we compute and visualize the confusion matrix. Our confusion matrix is a 3x3 matrix where each row represents the actual class labels and each column represents the predicted class labels. For example, if a tweet is actually labelled as offensive (1) but the model predicts it to be neutral (2), then that instance would go into the middle right cell.\n",
    "\n",
    "The 'confusion_matrix' function from the 'SKLearn' library is used to compute the matrix, while the 'Seaborn' library is used to visualize the matrix by creating a heatmap.\n"
   ]
  },
  {
   "cell_type": "code",
   "execution_count": 17,
   "metadata": {},
   "outputs": [
    {
     "data": {
      "image/png": "[encoded data removed]",
      "text/plain": [
       "<Figure size 1000x700 with 2 Axes>"
      ]
     },
     "metadata": {},
     "output_type": "display_data"
    }
   ],
   "source": [
    "# Compute the confusion matrix:\n",
    "cm = confusion_matrix(y_test, y_pred)\n",
    "\n",
    "# Visualize the confusion matrix:\n",
    "plt.figure(figsize=(10, 7))\n",
    "sns.heatmap(cm, annot=True, fmt='g', cmap='Blues',\n",
    "            xticklabels=model.classes_, \n",
    "            yticklabels=model.classes_)\n",
    "plt.xlabel('Predicted')\n",
    "plt.ylabel('Actual')\n",
    "plt.title('Confusion Matrix')\n",
    "plt.show()\n"
   ]
  },
  {
   "cell_type": "markdown",
   "metadata": {},
   "source": [
    "# Project Summary: Sentiment Analysis on Twitter Hate Speech and Offensive Language\n",
    "\n",
    "## Overview\n",
    "The project aims to develop a system that analyzes Twitter data to identify hate speech, offensive language, and neutral content. We utilized a labeled dataset containing thousands of sample tweets, each rated with a class of 0 (hate speech), 1 (offensive language), or 2 (neutral). The data was preprocessed to remove stop words, user @mentions, and non-alphabetical characters. We then transformed the text using Term Frequency-Inverse Document Frequency (TF-IDF) and trained a logistic regression model to classify the tweets. The model's performance was evaluated using a confusion matrix.\n",
    "\n",
    "## Preprocessing\n",
    "The dataset underwent a rigorous preprocessing stage where:\n",
    "1. Stop words were removed to focus on meaningful content.\n",
    "2. User @mentions were eliminated to maintain user privacy.\n",
    "3. Non-alphabetical characters were filtered out to clean the data.\n",
    "After preprocessing, we split the data into training and testing sets with an 80:20 ratio.\n",
    "\n",
    "## Model and Evaluation\n",
    "For the model, we employed the TF-IDF Vectorizer to transform the text data. A logistic regression model was then fitted to the training data. The evaluation metrics included precision, recall, f1-score, and support, which were derived from the confusion matrix.\n",
    "\n",
    "## Findings\n",
    "The model demonstrated a satisfactory performance in classifying tweets into the respective categories of hate speech, offensive language, and neutral content. The precision, recall, and f1-score provided insights into the model's accuracy and reliability.\n",
    "\n",
    "## Suitability for Sentiment Analysis\n",
    "The system proves to be a valuable tool for sentiment analysis, especially in identifying harmful content on social media platforms like Twitter. It can be utilized by organizations and individuals alike to monitor and filter out offensive language and hate speech, thereby fostering a positive and inclusive online environment.\n",
    "\n",
    "## Conclusion\n",
    "In conclusion, our sentiment analysis system showcases the potential of machine learning models in addressing the prevalent issue of hate speech and offensive language on social media platforms. The use of a labeled dataset, coupled with effective preprocessing and a robust logistic regression model, has paved the way for accurate classification of tweets. The findings from this project can be utilized to further enhance online safety and promote a healthy digital space for users worldwide."
   ]
  },
  {
   "cell_type": "markdown",
   "metadata": {},
   "source": [
    "<h3> References </h3>\n",
    "\n",
    "ChatGPT\n",
    "\n",
    "CS courses Padlet (by Professor Isac Artzi)"
   ]
  }
 ],
 "metadata": {
  "kernelspec": {
   "display_name": "Python 3",
   "language": "python",
   "name": "python3"
  },
  "language_info": {
   "codemirror_mode": {
    "name": "ipython",
    "version": 3
   },
   "file_extension": ".py",
   "mimetype": "text/x-python",
   "name": "python",
   "nbconvert_exporter": "python",
   "pygments_lexer": "ipython3",
   "version": "3.9.18"
  }
 },
 "nbformat": 4,
 "nbformat_minor": 2
}
